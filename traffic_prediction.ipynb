{
 "cells": [
  {
   "cell_type": "code",
   "execution_count": 1,
   "id": "ad5e90e8",
   "metadata": {},
   "outputs": [],
   "source": [
    "import pandas as pd\n",
    "import matplotlib.pyplot as plt\n",
    "from preprocessing import (\n",
    "    read_csv_files, filter_nodes, convert_dates_to_datetime,\n",
    "    add_holidays,add_weather_data,set_indexes_for_timeseries,\n",
    "    get_train_test,fill_missing_values\n",
    ")\n",
    "import seaborn as sns\n",
    "import matplotlib.pyplot as plt\n",
    "from sklearn.preprocessing import OrdinalEncoder\n",
    "from sklearn.model_selection import GridSearchCV\n",
    "import statsmodels.api as sm\n",
    "from statsmodels.graphics.tsaplots import plot_acf, plot_pacf\n",
    "from statsmodels.tsa.stattools import adfuller\n",
    "from statsmodels.tsa.arima_model import ARIMA"
   ]
  },
  {
   "cell_type": "code",
   "execution_count": 26,
   "id": "308f66d2",
   "metadata": {},
   "outputs": [],
   "source": [
    "DATA_DIR = './data'\n",
    "filenames = ['champs-elysees.csv', 'convention.csv', 'saints-peres.csv']\n",
    "dfs = read_csv_files(DATA_DIR, filenames)\n",
    "TIME_WINDOW = 14\n",
    "df = pd.concat(dfs)\n",
    "df_filtered = filter_nodes(df)\n",
    "df_filtered = df_filtered.drop(['Libelle noeud amont','Libelle noeud aval'],axis=1)\n",
    "df_filtered['Jour de la semaine'] = pd.to_datetime(df_filtered[\"Date et heure de comptage\"]).dt.dayofweek\n",
    "df_filtered = pd.concat([\n",
    "    df_filtered,\n",
    "    pd.get_dummies(df_filtered['Jour de la semaine'],prefix='Jour de la semaine')\n",
    "], axis=1).drop(columns=['Jour de la semaine'])\n",
    "\n",
    "df_filtered.sample(10)\n",
    "df_filtered['Date'] = pd.to_datetime(df_filtered[\"Date et heure de comptage\"]).dt.date\n",
    "add_holidays(df_filtered,DATA_DIR)\n",
    "df_filtered = add_weather_data(df_filtered,DATA_DIR)\n",
    "\n",
    "traffic_state_encoding = {\"Inconnu\":0, \"Fluide\":1, \"Pré-saturé\":2, \"Saturé\":3, \"Bloqué\":4}\n",
    "df_filtered[\"Etat trafic\"] = df_filtered[\"Etat trafic\"].map(traffic_state_encoding)\n",
    "df_train, df_test = get_train_test(df_filtered)\n",
    "\n",
    "df_train_ce = df_train[df_train['filename']=='champs-elysees.csv']\n",
    "df_train_sts = df_train[df_train['filename']=='saints-peres.csv']\n",
    "df_train_conv = df_train[df_train['filename']=='convention.csv']\n",
    "\n",
    "df_test_ce = df_test[df_test['filename']=='champs-elysees.csv']\n",
    "df_test_sts = df_test[df_test['filename']=='saints-peres.csv']\n",
    "df_test_conv = df_test[df_test['filename']=='convention.csv']\n",
    "\n",
    "dfs_train = [df_train_ce,df_train_sts,df_train_conv]\n",
    "dfs_test = [df_test_ce,df_test_sts,df_test_conv]"
   ]
  },
  {
   "cell_type": "code",
   "execution_count": 27,
   "id": "82a71fc4",
   "metadata": {},
   "outputs": [
    {
     "name": "stderr",
     "output_type": "stream",
     "text": [
      "/var/folders/m8/sb3p17zj07s4h28sd6njtsbw0000gn/T/ipykernel_32469/781726809.py:10: SettingWithCopyWarning: \n",
      "A value is trying to be set on a copy of a slice from a DataFrame.\n",
      "Try using .loc[row_indexer,col_indexer] = value instead\n",
      "\n",
      "See the caveats in the documentation: https://pandas.pydata.org/pandas-docs/stable/user_guide/indexing.html#returning-a-view-versus-a-copy\n",
      "  df_['daySin'] = np.sin(timestamp_s * (2 * np.pi / day))\n",
      "/var/folders/m8/sb3p17zj07s4h28sd6njtsbw0000gn/T/ipykernel_32469/781726809.py:11: SettingWithCopyWarning: \n",
      "A value is trying to be set on a copy of a slice from a DataFrame.\n",
      "Try using .loc[row_indexer,col_indexer] = value instead\n",
      "\n",
      "See the caveats in the documentation: https://pandas.pydata.org/pandas-docs/stable/user_guide/indexing.html#returning-a-view-versus-a-copy\n",
      "  df_['weekSin'] = np.sin(timestamp_s * (2 * np.pi / week))\n",
      "/var/folders/m8/sb3p17zj07s4h28sd6njtsbw0000gn/T/ipykernel_32469/781726809.py:25: SettingWithCopyWarning: \n",
      "A value is trying to be set on a copy of a slice from a DataFrame.\n",
      "Try using .loc[row_indexer,col_indexer] = value instead\n",
      "\n",
      "See the caveats in the documentation: https://pandas.pydata.org/pandas-docs/stable/user_guide/indexing.html#returning-a-view-versus-a-copy\n",
      "  df_[\"filter\"] = df_.isna().any(axis=1)\n"
     ]
    },
    {
     "data": {
      "text/html": [
       "<div>\n",
       "<style scoped>\n",
       "    .dataframe tbody tr th:only-of-type {\n",
       "        vertical-align: middle;\n",
       "    }\n",
       "\n",
       "    .dataframe tbody tr th {\n",
       "        vertical-align: top;\n",
       "    }\n",
       "\n",
       "    .dataframe thead th {\n",
       "        text-align: right;\n",
       "    }\n",
       "</style>\n",
       "<table border=\"1\" class=\"dataframe\">\n",
       "  <thead>\n",
       "    <tr style=\"text-align: right;\">\n",
       "      <th></th>\n",
       "      <th>Débit horaire</th>\n",
       "      <th>Taux d'occupation</th>\n",
       "      <th>Etat trafic</th>\n",
       "      <th>daySin</th>\n",
       "      <th>weekSin</th>\n",
       "      <th>tempC</th>\n",
       "      <th>visibility</th>\n",
       "      <th>filter</th>\n",
       "    </tr>\n",
       "  </thead>\n",
       "  <tbody>\n",
       "    <tr>\n",
       "      <th>0</th>\n",
       "      <td>1222.0</td>\n",
       "      <td>42.87945</td>\n",
       "      <td>3</td>\n",
       "      <td>0.866025</td>\n",
       "      <td>-0.563320</td>\n",
       "      <td>NaN</td>\n",
       "      <td>NaN</td>\n",
       "      <td>True</td>\n",
       "    </tr>\n",
       "    <tr>\n",
       "      <th>1</th>\n",
       "      <td>1033.0</td>\n",
       "      <td>44.35278</td>\n",
       "      <td>3</td>\n",
       "      <td>0.965926</td>\n",
       "      <td>-0.593820</td>\n",
       "      <td>NaN</td>\n",
       "      <td>NaN</td>\n",
       "      <td>True</td>\n",
       "    </tr>\n",
       "    <tr>\n",
       "      <th>2</th>\n",
       "      <td>824.0</td>\n",
       "      <td>20.16222</td>\n",
       "      <td>2</td>\n",
       "      <td>1.000000</td>\n",
       "      <td>-0.623490</td>\n",
       "      <td>NaN</td>\n",
       "      <td>NaN</td>\n",
       "      <td>True</td>\n",
       "    </tr>\n",
       "    <tr>\n",
       "      <th>3</th>\n",
       "      <td>710.0</td>\n",
       "      <td>12.20000</td>\n",
       "      <td>1</td>\n",
       "      <td>0.965926</td>\n",
       "      <td>-0.652287</td>\n",
       "      <td>NaN</td>\n",
       "      <td>NaN</td>\n",
       "      <td>True</td>\n",
       "    </tr>\n",
       "    <tr>\n",
       "      <th>4</th>\n",
       "      <td>947.0</td>\n",
       "      <td>40.57222</td>\n",
       "      <td>3</td>\n",
       "      <td>0.866025</td>\n",
       "      <td>-0.680173</td>\n",
       "      <td>NaN</td>\n",
       "      <td>NaN</td>\n",
       "      <td>True</td>\n",
       "    </tr>\n",
       "    <tr>\n",
       "      <th>...</th>\n",
       "      <td>...</td>\n",
       "      <td>...</td>\n",
       "      <td>...</td>\n",
       "      <td>...</td>\n",
       "      <td>...</td>\n",
       "      <td>...</td>\n",
       "      <td>...</td>\n",
       "      <td>...</td>\n",
       "    </tr>\n",
       "    <tr>\n",
       "      <th>9012</th>\n",
       "      <td>1223.0</td>\n",
       "      <td>30.47667</td>\n",
       "      <td>3</td>\n",
       "      <td>-0.965926</td>\n",
       "      <td>0.593820</td>\n",
       "      <td>9.0</td>\n",
       "      <td>10.0</td>\n",
       "      <td>False</td>\n",
       "    </tr>\n",
       "    <tr>\n",
       "      <th>9013</th>\n",
       "      <td>1183.0</td>\n",
       "      <td>33.44722</td>\n",
       "      <td>3</td>\n",
       "      <td>-0.866025</td>\n",
       "      <td>0.563320</td>\n",
       "      <td>9.0</td>\n",
       "      <td>10.0</td>\n",
       "      <td>False</td>\n",
       "    </tr>\n",
       "    <tr>\n",
       "      <th>9014</th>\n",
       "      <td>1276.0</td>\n",
       "      <td>28.28278</td>\n",
       "      <td>2</td>\n",
       "      <td>-0.707107</td>\n",
       "      <td>0.532032</td>\n",
       "      <td>8.0</td>\n",
       "      <td>10.0</td>\n",
       "      <td>False</td>\n",
       "    </tr>\n",
       "    <tr>\n",
       "      <th>9015</th>\n",
       "      <td>1224.0</td>\n",
       "      <td>28.76278</td>\n",
       "      <td>2</td>\n",
       "      <td>-0.500000</td>\n",
       "      <td>0.500000</td>\n",
       "      <td>8.0</td>\n",
       "      <td>10.0</td>\n",
       "      <td>False</td>\n",
       "    </tr>\n",
       "    <tr>\n",
       "      <th>9016</th>\n",
       "      <td>1301.0</td>\n",
       "      <td>29.20389</td>\n",
       "      <td>2</td>\n",
       "      <td>-0.258819</td>\n",
       "      <td>0.467269</td>\n",
       "      <td>8.0</td>\n",
       "      <td>10.0</td>\n",
       "      <td>False</td>\n",
       "    </tr>\n",
       "  </tbody>\n",
       "</table>\n",
       "<p>9017 rows × 8 columns</p>\n",
       "</div>"
      ],
      "text/plain": [
       "      Débit horaire  Taux d'occupation  Etat trafic    daySin   weekSin  \\\n",
       "0            1222.0           42.87945            3  0.866025 -0.563320   \n",
       "1            1033.0           44.35278            3  0.965926 -0.593820   \n",
       "2             824.0           20.16222            2  1.000000 -0.623490   \n",
       "3             710.0           12.20000            1  0.965926 -0.652287   \n",
       "4             947.0           40.57222            3  0.866025 -0.680173   \n",
       "...             ...                ...          ...       ...       ...   \n",
       "9012         1223.0           30.47667            3 -0.965926  0.593820   \n",
       "9013         1183.0           33.44722            3 -0.866025  0.563320   \n",
       "9014         1276.0           28.28278            2 -0.707107  0.532032   \n",
       "9015         1224.0           28.76278            2 -0.500000  0.500000   \n",
       "9016         1301.0           29.20389            2 -0.258819  0.467269   \n",
       "\n",
       "      tempC  visibility  filter  \n",
       "0       NaN         NaN    True  \n",
       "1       NaN         NaN    True  \n",
       "2       NaN         NaN    True  \n",
       "3       NaN         NaN    True  \n",
       "4       NaN         NaN    True  \n",
       "...     ...         ...     ...  \n",
       "9012    9.0        10.0   False  \n",
       "9013    9.0        10.0   False  \n",
       "9014    8.0        10.0   False  \n",
       "9015    8.0        10.0   False  \n",
       "9016    8.0        10.0   False  \n",
       "\n",
       "[9017 rows x 8 columns]"
      ]
     },
     "execution_count": 27,
     "metadata": {},
     "output_type": "execute_result"
    }
   ],
   "source": [
    "df_ = dfs_train[0]\n",
    "\n",
    "date_time = df_['Date et heure de comptage']\n",
    "timestamp_s = date_time.map(pd.Timestamp.timestamp)\n",
    "\n",
    "day = 24*60*60\n",
    "week = 7*day\n",
    "\n",
    "import numpy as np\n",
    "df_['daySin'] = np.sin(timestamp_s * (2 * np.pi / day))\n",
    "df_['weekSin'] = np.sin(timestamp_s * (2 * np.pi / week))\n",
    "\n",
    "df_ = df_[\n",
    "    [\n",
    "        \"Débit horaire\",\n",
    "        \"Taux d'occupation\",\n",
    "        \"Etat trafic\",\n",
    "        \"daySin\",\n",
    "        \"weekSin\",\n",
    "        \"tempC\",\n",
    "        \"visibility\",\n",
    "\n",
    "    ]\n",
    "]\n",
    "df_[\"filter\"] = df_.isna().any(axis=1)\n",
    "df_"
   ]
  },
  {
   "cell_type": "code",
   "execution_count": 9,
   "id": "1bfebb4b",
   "metadata": {},
   "outputs": [],
   "source": [
    "import numpy as np\n",
    "data = np.array(df_, dtype=np.float32)"
   ]
  },
  {
   "cell_type": "code",
   "execution_count": 10,
   "id": "357a992f",
   "metadata": {},
   "outputs": [
    {
     "data": {
      "text/plain": [
       "Text(0.5, 0, 'taille fenetre h')"
      ]
     },
     "execution_count": 10,
     "metadata": {},
     "output_type": "execute_result"
    },
    {
     "data": {
      "image/png": "[encoded data removed]",
      "text/plain": [
       "<Figure size 432x288 with 1 Axes>"
      ]
     },
     "metadata": {
      "needs_background": "light"
     },
     "output_type": "display_data"
    }
   ],
   "source": [
    "data_ = df_\n",
    "data = np.array(data_, dtype=np.float64)\n",
    "start_index = 0\n",
    "end_index = len(data)\n",
    "sampling_rate=1 #hour\n",
    "sequence_length= 10\n",
    "def len_seq(sequence_length: int = 10):\n",
    "    # Determine the lowest dtype to store start positions (to lower memory usage).\n",
    "    num_seqs = end_index - start_index - (sequence_length * sampling_rate) + 1\n",
    "\n",
    "    if num_seqs < 2147483647:\n",
    "        index_dtype = \"int32\"\n",
    "    else:\n",
    "        index_dtype = \"int64\"\n",
    "    # arnaud: custom starting position\n",
    "    interval = sampling_rate * sequence_length\n",
    "    stop_indexes = data_[data_[\"filter\"] == 1].index\n",
    "    id_s = data_.index.difference(data_[data_[\"filter\"] == 1].index)\n",
    "\n",
    "    start_positions = []\n",
    "    for slicer in range(len(id_s) - interval):\n",
    "        # check if continuous\n",
    "        if id_s[slicer + interval] - id_s[slicer] == interval:\n",
    "            start_positions.append(id_s[slicer])\n",
    "    start_positions = np.array(start_positions, dtype=index_dtype)\n",
    "    return len(start_positions)\n",
    "\n",
    "x = np.arange(1,600, 10)\n",
    "plt.plot(x, [len_seq(k) for k in x])\n",
    "plt.ylabel(\"nombre fenetre\")\n",
    "plt.xlabel(\"taille fenetre h\")"
   ]
  },
  {
   "cell_type": "code",
   "execution_count": 45,
   "id": "56bb1f56",
   "metadata": {},
   "outputs": [
    {
     "name": "stderr",
     "output_type": "stream",
     "text": [
      "/Users/arnaudpetit/Documents/Programmation/3A/datathon_gamma_livraisonCO/library/data/pipeline.py:29: SettingWithCopyWarning: \n",
      "A value is trying to be set on a copy of a slice from a DataFrame.\n",
      "Try using .loc[row_indexer,col_indexer] = value instead\n",
      "\n",
      "See the caveats in the documentation: https://pandas.pydata.org/pandas-docs/stable/user_guide/indexing.html#returning-a-view-versus-a-copy\n",
      "  df.loc[:, transform_cols] = (df.loc[:, transform_cols] - df_mean) / df_std\n"
     ]
    },
    {
     "data": {
      "text/plain": [
       "Total window size: 360\n",
       "Input indices: [  0   1   2   3   4   5   6   7   8   9  10  11  12  13  14  15  16  17\n",
       "  18  19  20  21  22  23  24  25  26  27  28  29  30  31  32  33  34  35\n",
       "  36  37  38  39  40  41  42  43  44  45  46  47  48  49  50  51  52  53\n",
       "  54  55  56  57  58  59  60  61  62  63  64  65  66  67  68  69  70  71\n",
       "  72  73  74  75  76  77  78  79  80  81  82  83  84  85  86  87  88  89\n",
       "  90  91  92  93  94  95  96  97  98  99 100 101 102 103 104 105 106 107\n",
       " 108 109 110 111 112 113 114 115 116 117 118 119 120 121 122 123 124 125\n",
       " 126 127 128 129 130 131 132 133 134 135 136 137 138 139 140 141 142 143\n",
       " 144 145 146 147 148 149 150 151 152 153 154 155 156 157 158 159 160 161\n",
       " 162 163 164 165 166 167 168 169 170 171 172 173 174 175 176 177 178 179\n",
       " 180 181 182 183 184 185 186 187 188 189 190 191 192 193 194 195 196 197\n",
       " 198 199 200 201 202 203 204 205 206 207 208 209 210 211 212 213 214 215\n",
       " 216 217 218 219 220 221 222 223 224 225 226 227 228 229 230 231 232 233\n",
       " 234 235 236 237 238 239]\n",
       "Label indices: [240 241 242 243 244 245 246 247 248 249 250 251 252 253 254 255 256 257\n",
       " 258 259 260 261 262 263 264 265 266 267 268 269 270 271 272 273 274 275\n",
       " 276 277 278 279 280 281 282 283 284 285 286 287 288 289 290 291 292 293\n",
       " 294 295 296 297 298 299 300 301 302 303 304 305 306 307 308 309 310 311\n",
       " 312 313 314 315 316 317 318 319 320 321 322 323 324 325 326 327 328 329\n",
       " 330 331 332 333 334 335 336 337 338 339 340 341 342 343 344 345 346 347\n",
       " 348 349 350 351 352 353 354 355 356 357 358 359]\n",
       "Label column name(s): ['Débit horaire']"
      ]
     },
     "execution_count": 45,
     "metadata": {},
     "output_type": "execute_result"
    }
   ],
   "source": [
    "from library import WindowGenerator, do_datasets\n",
    "\n",
    "df, df_mean, df_std = do_datasets(data=df_, unscale_cols=[\"filter\"])\n",
    "\n",
    "WIN_LENGTH = 24 * 5\n",
    "batch_size = 128\n",
    "\n",
    "window = WindowGenerator(\n",
    "    input_width=2*WIN_LENGTH,\n",
    "    label_width=WIN_LENGTH,\n",
    "    shift=24 * 5,\n",
    "    df=df,\n",
    "    df_mean=df_mean,\n",
    "    df_std=df_std,\n",
    "    feature_columns=[\n",
    "        \"Débit horaire\",\n",
    "        \"Taux d'occupation\",\n",
    "        \"Etat trafic\",\n",
    "        \"daySin\",\n",
    "        \"weekSin\",\n",
    "        \"tempC\",\n",
    "        \"visibility\",\n",
    "    ],\n",
    "    filter_col=\"filter\",\n",
    "    label_columns=[\"Débit horaire\"],\n",
    "    batch_size=batch_size,\n",
    "    train_split=0.7,\n",
    "    sampling_rate=1,\n",
    "    shuffle_windows=False,\n",
    ")\n",
    "\n",
    "window"
   ]
  },
  {
   "cell_type": "code",
   "execution_count": 46,
   "id": "8420df71",
   "metadata": {},
   "outputs": [
    {
     "data": {
      "text/plain": [
       "9"
      ]
     },
     "execution_count": 46,
     "metadata": {},
     "output_type": "execute_result"
    }
   ],
   "source": [
    "len(window.train) #cest pas du nargilez"
   ]
  },
  {
   "cell_type": "code",
   "execution_count": null,
   "id": "866b376f",
   "metadata": {},
   "outputs": [],
   "source": [
    "OUTSTEPS = WIN_LENGTH\n",
    "num_labels = 1\n",
    "\n",
    "import tensorflow as tf\n",
    "\n",
    "lstm_generator = lambda multipl: lambda: tf.keras.Sequential(\n",
    "    [\n",
    "        tf.keras.layers.LSTM(int(OUTSTEPS * num_labels * multipl), return_sequences=False)\n",
    "        for _ in range(1)\n",
    "    ]\n",
    "    + [\n",
    "        tf.keras.layers.Dense(OUTSTEPS * num_labels),\n",
    "        tf.keras.layers.Reshape([OUTSTEPS, num_labels]),\n",
    "    ]\n",
    ")\n",
    "\n",
    "optimizer = tf.optimizers.Adam()\n",
    "callback_mod = \"EarlyStopping\"   \n",
    "loss_mod = 'mae'#hparams[HP_LOSS]\n",
    "model_generator = lstm_generator(5)\n",
    "\n",
    "model_name = \"final_model\"\n",
    "\n",
    "val_performance = {}\n",
    "cli = {}\n"
   ]
  },
  {
   "cell_type": "markdown",
   "id": "f1fcc3ab",
   "metadata": {},
   "source": [
    "## Moyenne mobile du débit horaire sur fenêtre de 24h"
   ]
  },
  {
   "cell_type": "code",
   "execution_count": null,
   "id": "c99cfd6a",
   "metadata": {},
   "outputs": [],
   "source": [
    "from datetime import datetime\n",
    "mobile_mean = df_train_ce[df_train_ce[\"Date\"]>datetime(2022,10,1).date()][\"Débit horaire\"].diff(24).dropna().rolling(24, center=True, min_periods=1).mean()\n",
    "df_train_ce[df_train_ce[\"Date\"]>datetime(2022,10,1).date()][\"Débit horaire\"].diff().dropna().plot(figsize=(10,4), label = 'Débit horaire')\n",
    "mobile_mean.plot(figsize=(10,4), color='coral', label = 'Moyenne mobile du débit horaire')\n",
    "plt.legend()\n",
    "plt.show()"
   ]
  },
  {
   "cell_type": "markdown",
   "id": "6e62bc58",
   "metadata": {},
   "source": [
    "## Moyenne mobile du taux d'occupation sur fenêtre de 24h"
   ]
  },
  {
   "cell_type": "markdown",
   "id": "abb5f93b",
   "metadata": {},
   "source": [
    "## Grid search sur les paramètres de SARIMA"
   ]
  },
  {
   "cell_type": "code",
   "execution_count": null,
   "id": "4ee0cdf1",
   "metadata": {},
   "outputs": [],
   "source": [
    "df_train_ce = set_indexes_for_timeseries(df_train_ce)\n",
    "plt.rcParams[\"figure.figsize\"] = (20,8)\n",
    "decomposition = sm.tsa.seasonal_decompose(df_train_ce[df_train_ce[\"Date\"]>datetime(2022,10,1).date()][\"Débit horaire\"].diff(24).dropna(), model='additive')\n",
    "fig = decomposition.plot()\n",
    "plt.show()\n"
   ]
  },
  {
   "cell_type": "code",
   "execution_count": null,
   "id": "47bebd31",
   "metadata": {
    "scrolled": true
   },
   "outputs": [],
   "source": [
    "from datetime import datetime\n",
    "plot_acf(df_train_ce[\"Débit horaire\"].diff().diff(24).dropna(),lags=50)\n",
    "plot_pacf(df_train_ce[\"Débit horaire\"].diff().diff(24).dropna(),lags=100)"
   ]
  },
  {
   "cell_type": "code",
   "execution_count": null,
   "id": "8c46d8b5",
   "metadata": {},
   "outputs": [],
   "source": [
    "plot_acf(df_train_ce[df_train_ce[\"Date\"]>datetime(2022,9,1).date()][\"Débit horaire\"].diff().dropna(),lags=150)\n",
    "plot_pacf(df_train_ce[df_train_ce[\"Date\"]>datetime(2022,9,1).date()][\"Débit horaire\"].diff().dropna(),lags=100)"
   ]
  },
  {
   "cell_type": "code",
   "execution_count": null,
   "id": "8a55c5e7",
   "metadata": {},
   "outputs": [],
   "source": [
    "plot_acf(df_train_ce[df_train_ce[\"Date\"]>datetime(2022,9,1).date()][\"Débit horaire\"].diff(24).dropna(),lags=[24*i for i in range(5)])\n",
    "plot_pacf(df_train_ce[df_train_ce[\"Date\"]>datetime(2022,9,1).date()][\"Débit horaire\"].diff(24).dropna(),lags=[24*i for i in range(5)])"
   ]
  },
  {
   "cell_type": "code",
   "execution_count": null,
   "id": "f7d31bb7",
   "metadata": {},
   "outputs": [],
   "source": [
    "result = adfuller(df_train_ce[df_train_ce[\"Date\"]>datetime(2022,10,1).date()][\"Débit horaire\"].diff(24).dropna())\n",
    "print('p-value : ', result[1])"
   ]
  },
  {
   "cell_type": "code",
   "execution_count": null,
   "id": "a608847c",
   "metadata": {},
   "outputs": [],
   "source": [
    "result = adfuller(df_train_ce[df_train_ce[\"Date\"]>datetime(2022,10,1).date()][\"Débit horaire\"])\n",
    "print('p-value : ', result[1])\n",
    "\n",
    "result = adfuller(df_train_ce[df_train_ce[\"Date\"]>datetime(2022,10,1).date()][\"Débit horaire\"].diff().dropna())\n",
    "print('p-value : ', result[1])\n"
   ]
  },
  {
   "cell_type": "markdown",
   "id": "1ff88b98",
   "metadata": {},
   "source": [
    "- on choisit d = 1\n",
    "- on choisit p = 1 \n",
    "- on choisit q  = 2\n",
    "- on choisit m = 24 \n",
    "- on choisit P = 0\n",
    "- on choisit Q = 2\n",
    "- on choisit D= 1"
   ]
  },
  {
   "cell_type": "code",
   "execution_count": null,
   "id": "085ac57e",
   "metadata": {},
   "outputs": [],
   "source": [
    "exog_train=df_train_ce[df_train_ce[\"Date\"]>datetime(2022,10,1).date()]\\\n",
    "[['Jour férié','Vacances scolaires','Jour de la semaine_0','Jour de la semaine_1','Jour de la semaine_2','Jour de la semaine_3',\n",
    "'Jour de la semaine_4','Jour de la semaine_5','Jour de la semaine_6','maxtempC',\n",
    "'mintempC']]\n",
    "exog_train = exog_train.astype(float)\n"
   ]
  },
  {
   "cell_type": "code",
   "execution_count": null,
   "id": "f96d7f16",
   "metadata": {},
   "outputs": [],
   "source": [
    "import time\n",
    "import numpy as np\n",
    "from sklearn.metrics import mean_squared_error\n",
    "\n",
    "p=1\n",
    "d=1\n",
    "q=2\n",
    "m=24\n",
    "P=0\n",
    "D=1\n",
    "Q= 2\n",
    "fitting = True\n",
    "if fitting:\n",
    "    s = time.time()\n",
    "    mod = sm.tsa.statespace.SARIMAX(df_train_ce[df_train_ce[\"Date\"]>datetime(2022,9,1).date()][\"Débit horaire\"],order=(p,q,d),seasonal_order=(P,D,Q,m),enforce_stationarity=False,enforce_invertibility=False,exog=exog_train)\n",
    "    model = mod.fit()"
   ]
  },
  {
   "cell_type": "code",
   "execution_count": null,
   "id": "5ecc3aad",
   "metadata": {},
   "outputs": [],
   "source": [
    "df_test_ce = set_indexes_for_timeseries(df_test_ce)\n",
    "a = df_test_ce.index.min()\n",
    "b = df_test_ce.index.max()\n",
    "a,b"
   ]
  },
  {
   "cell_type": "code",
   "execution_count": null,
   "id": "a6a9a59c",
   "metadata": {},
   "outputs": [],
   "source": [
    "exog_test=df_test_ce\\\n",
    "[['Jour férié','Vacances scolaires','Jour de la semaine_0','Jour de la semaine_1','Jour de la semaine_2','Jour de la semaine_3',\n",
    "'Jour de la semaine_4','Jour de la semaine_5','Jour de la semaine_6','maxtempC',\n",
    "'mintempC']]\n",
    "exog_test = exog_test.astype(float)"
   ]
  },
  {
   "cell_type": "code",
   "execution_count": null,
   "id": "a4e3d76e",
   "metadata": {},
   "outputs": [],
   "source": [
    "pred = model.predict(start=a,end=b,exog=exog_test)\n",
    "pred_train = model.predict(start=df_train_ce[df_train_ce[\"Date\"]>datetime(2022,10,1).date()].index.min(),\n",
    "                           end=df_train_ce[df_train_ce[\"Date\"]>datetime(2022,10,1).date()].index.max(),\n",
    "                           exog = exog_train)\n",
    "e = time.time()\n",
    "print(f\"Temps d'éxecution: {e-s}\")\n",
    "rmse = round(np.sqrt(mean_squared_error(df_test_ce[\"Débit horaire\"], pred)),1)\n",
    "print(rmse)\n",
    "plt.plot(df_train_ce[df_train_ce[\"Date\"]>datetime(2022,10,1).date()][\"Débit horaire\"], label='Données')\n",
    "plt.plot(df_test_ce[\"Débit horaire\"], \"--\",  label='Target')\n",
    "plt.plot(pred, label='Prediction')\n",
    "plt.plot(pred_train, label = 'Prediction train')\n",
    "plt.xticks(rotation=45)\n",
    "plt.title(f'Predictions pour Champs Élysées du 22 au 27 Novembre 2020 \\n RMSE={rmse}')\n",
    "plt.legend()\n",
    "plt.show()\n"
   ]
  },
  {
   "cell_type": "code",
   "execution_count": null,
   "id": "f6e9e3df",
   "metadata": {},
   "outputs": [],
   "source": [
    "from statsmodels.tsa.ar_model import AutoReg\n",
    "p=3\n",
    "fitting = True\n",
    "if fitting:\n",
    "    s = time.time()\n",
    "    mod = AutoReg(df_train_ce[df_train_ce[\"Date\"]>datetime(2022,10,1).date()][\"Débit horaire\"],lags=3,trend=\"ct\",exog=exog_train)\n",
    "    model = mod.fit()"
   ]
  },
  {
   "cell_type": "code",
   "execution_count": null,
   "id": "ac4e1756",
   "metadata": {},
   "outputs": [],
   "source": [
    "pred = model.predict(start=a,end=b,exog_oos=exog_test)\n",
    "pred_train = model.predict(start=df_train_ce[df_train_ce[\"Date\"]>datetime(2022,10,1).date()].index.min(),\n",
    "                           end=df_train_ce[df_train_ce[\"Date\"]>datetime(2022,10,1).date()].index.max(),exog=exog_train)\n",
    "e = time.time()\n",
    "print(f\"Temps d'éxecution: {e-s}\")\n",
    "rmse = round(np.sqrt(mean_squared_error(df_test_ce[\"Débit horaire\"], pred)),1)\n",
    "print(rmse)\n",
    "plt.plot(df_train_ce[df_train_ce[\"Date\"]>datetime(2022,10,1).date()][\"Débit horaire\"], label='Données')\n",
    "plt.plot(df_test_ce[\"Débit horaire\"], \"--\",  label='Target')\n",
    "plt.plot(pred, label='Prediction')\n",
    "plt.plot(pred_train, label = 'Prediction train')\n",
    "plt.xticks(rotation=45)\n",
    "plt.title(f'Predictions pour Champs Élysées du 22 au 27 Novembre 2020 \\n RMSE={rmse}')\n",
    "plt.legend()\n",
    "plt.show()\n"
   ]
  },
  {
   "cell_type": "code",
   "execution_count": null,
   "id": "c7b2c658",
   "metadata": {},
   "outputs": [],
   "source": [
    "from pmdarima.arima import auto_arima\n",
    "model = auto_arima(df_train_ce[df_train_ce[\"Date\"]>datetime(2022,10,1).date()][\"Débit horaire\"],\n",
    "                  start_p=2,\n",
    "                  max_p=2,\n",
    "                  seasonal=True,\n",
    "                  start_P=2,\n",
    "                start_q=0,\n",
    "                   max_q=0,\n",
    "                  max_P=2,\n",
    "                  start_Q=1,\n",
    "                  max_Q=3,\n",
    "                   m=24,\n",
    "                  stepwise=True)"
   ]
  },
  {
   "cell_type": "code",
   "execution_count": null,
   "id": "af4cebcc",
   "metadata": {},
   "outputs": [],
   "source": [
    "from pmdarima.arima import ndiffs, nsdiffs,auto_arima\n",
    "adf_diffs = ndiffs(df_train_ce[df_train_ce[\"Date\"]>datetime(2022,11,1).date()][\"Débit horaire\"], alpha=0.05, test='adf', max_d=10)\n",
    "kpss_diffs = ndiffs(df_train_ce[df_train_ce[\"Date\"]>datetime(2022,11,1).date()][\"Débit horaire\"], alpha=0.05, test='kpss', max_d=10)"
   ]
  },
  {
   "cell_type": "code",
   "execution_count": null,
   "id": "7c67932f",
   "metadata": {},
   "outputs": [],
   "source": [
    "kpss_diffs, adf_diffs"
   ]
  },
  {
   "cell_type": "code",
   "execution_count": null,
   "id": "19ce074c",
   "metadata": {},
   "outputs": [],
   "source": [
    "D = nsdiffs(df_train_ce[df_train_ce[\"Date\"]>datetime(2022,11,1).date()][\"Débit horaire\"], m=24, max_D=5, test='ocsb')\n",
    "D"
   ]
  },
  {
   "cell_type": "code",
   "execution_count": null,
   "id": "a87be1d7",
   "metadata": {},
   "outputs": [],
   "source": [
    "results = auto_arima(df_train_ce[df_train_ce[\"Date\"]>datetime(2022,11,1).date()][\"Débit horaire\"],\n",
    "                  p=2,\n",
    "                     d=0,\n",
    "                q=0,\n",
    "                     seasonal=True,\n",
    "                P=2,\n",
    "                  start_Q=1,\n",
    "                     D=0,\n",
    "                  max_Q=5,\n",
    "                   m=24,\n",
    "                  stepwise=True)\n",
    "\n",
    "results.summary()"
   ]
  },
  {
   "cell_type": "code",
   "execution_count": null,
   "id": "858528db",
   "metadata": {},
   "outputs": [],
   "source": [
    "import time\n",
    "import numpy as np\n",
    "from sklearn.metrics import mean_squared_error\n",
    "\n",
    "p=1\n",
    "d=0\n",
    "q=2\n",
    "m=24\n",
    "P=1\n",
    "D=0\n",
    "Q= 1\n",
    "fitting = True\n",
    "if fitting:\n",
    "    s = time.time()\n",
    "    mod = sm.tsa.statespace.SARIMAX(df_train_ce[df_train_ce[\"Date\"]>datetime(2022,10,1).date()][\"Débit horaire\"],order=(p,q,d),seasonal_order=(P,D,Q,m),enforce_stationarity=False,enforce_invertibility=False,exog=exog_train)\n",
    "    model = mod.fit()\n",
    "    \n",
    "\n"
   ]
  },
  {
   "cell_type": "code",
   "execution_count": null,
   "id": "d23bcb9d",
   "metadata": {},
   "outputs": [],
   "source": [
    "#df_test_ce = set_indexes_for_timeseries(df_test_ce)\n",
    "a = df_test_ce.index.min()\n",
    "b = df_test_ce.index.max()\n",
    "a,b"
   ]
  },
  {
   "cell_type": "code",
   "execution_count": null,
   "id": "b6c5123e",
   "metadata": {},
   "outputs": [],
   "source": [
    "pred = model.predict(start=a,end=b,exog=exog_test)\n",
    "pred_train = model.predict(start=df_train_ce[df_train_ce[\"Date\"]>datetime(2022,10,1).date()].index.min(),\n",
    "                           end=df_train_ce[df_train_ce[\"Date\"]>datetime(2022,10,1).date()].index.max(),exog=exog_train)\n",
    "\n",
    "rmse = round(np.sqrt(mean_squared_error(df_test_ce[\"Débit horaire\"], pred)),1)\n",
    "print(rmse)\n",
    "plt.plot(df_train_ce[df_train_ce[\"Date\"]>datetime(2022,10,1).date()][\"Débit horaire\"], label='Données')\n",
    "plt.plot(df_test_ce[\"Débit horaire\"], \"--\",  label='Target')\n",
    "plt.plot(pred, label='Prediction')\n",
    "plt.plot(pred_train, label = 'Prediction train')\n",
    "plt.xticks(rotation=45)\n",
    "plt.title(f'Predictions pour Champs Élysées du 27 novembre au 2 Décembre 2022 \\n RMSE={rmse}')\n",
    "plt.legend()\n",
    "plt.show()\n"
   ]
  },
  {
   "cell_type": "code",
   "execution_count": null,
   "id": "98aa0870",
   "metadata": {},
   "outputs": [],
   "source": []
  },
  {
   "cell_type": "code",
   "execution_count": null,
   "id": "adff8673",
   "metadata": {},
   "outputs": [],
   "source": []
  },
  {
   "cell_type": "markdown",
   "id": "8b2d0fa5",
   "metadata": {},
   "source": [
    "best_score : 236.1, (2,0,0)*(2,1,2)"
   ]
  },
  {
   "cell_type": "code",
   "execution_count": null,
   "id": "65eb8bb9",
   "metadata": {},
   "outputs": [],
   "source": []
  }
 ],
 "metadata": {
  "kernelspec": {
   "display_name": "Python 3.9.10 ('base')",
   "language": "python",
   "name": "python3"
  },
  "language_info": {
   "codemirror_mode": {
    "name": "ipython",
    "version": 3
   },
   "file_extension": ".py",
   "mimetype": "text/x-python",
   "name": "python",
   "nbconvert_exporter": "python",
   "pygments_lexer": "ipython3",
   "version": "3.9.10"
  },
  "vscode": {
   "interpreter": {
    "hash": "56faac8612633bcfddb99da3ad5a50bcd343e3e14a61b03833611d8357de7104"
   }
  }
 },
 "nbformat": 4,
 "nbformat_minor": 5
}
