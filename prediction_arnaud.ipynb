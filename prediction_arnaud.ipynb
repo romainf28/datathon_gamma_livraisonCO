{
 "cells": [
  {
   "cell_type": "code",
   "execution_count": 56,
   "metadata": {},
   "outputs": [],
   "source": [
    "import tensorflow as tf"
   ]
  },
  {
   "cell_type": "code",
   "execution_count": 57,
   "metadata": {},
   "outputs": [],
   "source": [
    "model = tf.keras.models.load_model(\"ce_446.5002951523832_11.90561973867756\")"
   ]
  },
  {
   "cell_type": "code",
   "execution_count": 61,
   "metadata": {},
   "outputs": [],
   "source": [
    "from arnaud_mechant import mechant_romain, mechant_arnaud\n",
    "\n",
    "\n",
    "\n",
    "df_train, df_test = mechant_romain()\n",
    "df_ = df_test[0]\n",
    "\n",
    "df_train = df_train[0]\n"
   ]
  },
  {
   "cell_type": "code",
   "execution_count": 62,
   "metadata": {},
   "outputs": [
    {
     "name": "stderr",
     "output_type": "stream",
     "text": [
      "/var/folders/m8/sb3p17zj07s4h28sd6njtsbw0000gn/T/ipykernel_46996/567239433.py:26: SettingWithCopyWarning: \n",
      "A value is trying to be set on a copy of a slice from a DataFrame.\n",
      "Try using .loc[row_indexer,col_indexer] = value instead\n",
      "\n",
      "See the caveats in the documentation: https://pandas.pydata.org/pandas-docs/stable/user_guide/indexing.html#returning-a-view-versus-a-copy\n",
      "  df_[\"filter\"] = df_.isna().any(axis=1)\n",
      "/var/folders/m8/sb3p17zj07s4h28sd6njtsbw0000gn/T/ipykernel_46996/567239433.py:26: SettingWithCopyWarning: \n",
      "A value is trying to be set on a copy of a slice from a DataFrame.\n",
      "Try using .loc[row_indexer,col_indexer] = value instead\n",
      "\n",
      "See the caveats in the documentation: https://pandas.pydata.org/pandas-docs/stable/user_guide/indexing.html#returning-a-view-versus-a-copy\n",
      "  df_[\"filter\"] = df_.isna().any(axis=1)\n"
     ]
    }
   ],
   "source": [
    "def feature_engineering(df_):\n",
    "    date_time = df_[\"Date et heure de comptage\"]\n",
    "    timestamp_s = date_time.map(pd.Timestamp.timestamp)\n",
    "\n",
    "    day = 24 * 60 * 60\n",
    "    week = 7 * day\n",
    "\n",
    "    import numpy as np\n",
    "\n",
    "    df_[\"daySin\"] = np.sin(timestamp_s * (2 * np.pi / day))\n",
    "    df_[\"weekSin\"] = np.sin(timestamp_s * (2 * np.pi / week))\n",
    "    df_[\"Durée avant les prochaines vacances scolaires\"] = df_[\n",
    "        \"Durée avant les prochaines vacances scolaires\"\n",
    "    ].dt.days\n",
    "    df_ = df_[\n",
    "        [\n",
    "            \"Débit horaire\",\n",
    "            \"Taux d'occupation\",\n",
    "            \"Etat trafic\",\n",
    "            \"daySin\",\n",
    "            \"weekSin\",\n",
    "            \"humidity\",\n",
    "            \"Durée avant les prochaines vacances scolaires\",\n",
    "        ]\n",
    "    ]\n",
    "    df_[\"filter\"] = df_.isna().any(axis=1)\n",
    "    return df_\n",
    "\n",
    "df_ = feature_engineering(df_)\n",
    "df_train = feature_engineering(df_train)"
   ]
  },
  {
   "cell_type": "code",
   "execution_count": 63,
   "metadata": {},
   "outputs": [],
   "source": [
    "feature_columns = [\n",
    "    \"Débit horaire\",\n",
    "    \"Taux d'occupation\",\n",
    "    \"Etat trafic\",\n",
    "    \"daySin\",\n",
    "    \"weekSin\",\n",
    "    \"humidity\",\n",
    "    \"Durée avant les prochaines vacances scolaires\",\n",
    "]\n",
    "\n",
    "df_ = df_[feature_columns]\n",
    "df_train = df_train[feature_columns]"
   ]
  },
  {
   "cell_type": "code",
   "execution_count": 65,
   "metadata": {},
   "outputs": [],
   "source": [
    "df_mean, df_std = df_train.mean(), df_train.std()\n",
    "\n",
    "df_predict = (df_-df_mean)/df_std\n",
    "df_train = (df_train-df_mean)/df_std\n"
   ]
  },
  {
   "cell_type": "code",
   "execution_count": 73,
   "metadata": {},
   "outputs": [],
   "source": [
    "WIN_LENGTH = 24 * 5\n",
    "\n",
    "    \n",
    "input_width=int(2.5 * WIN_LENGTH)\n",
    "label_width=WIN_LENGTH\n",
    "\n",
    "missing = len(df_predict) - input_width - label_width\n",
    "df_data = pd.concat([df_train[-299:].astype(float).interpolate(), df_predict], axis=0)"
   ]
  },
  {
   "cell_type": "code",
   "execution_count": 93,
   "metadata": {},
   "outputs": [],
   "source": [
    "WIN_LENGTH = 24 * 5\n",
    "    \n",
    "input_width=int(2.5 * WIN_LENGTH)\n",
    "label_width=WIN_LENGTH\n",
    "\n",
    "y_target = df_data[-label_width:][[\"Débit horaire\", \"Taux d'occupation\"]].to_numpy().reshape(1,120,2)\n",
    "\n",
    "x = df_data[-input_width-label_width:-label_width].to_numpy().reshape(1,300,7)\n",
    "y_pred = model.predict(np.random.rand(1, input_width, len(feature_columns)))"
   ]
  },
  {
   "cell_type": "code",
   "execution_count": 94,
   "metadata": {},
   "outputs": [
    {
     "data": {
      "text/plain": [
       "(159.86642531099707, 11.758476464255162)"
      ]
     },
     "execution_count": 94,
     "metadata": {},
     "output_type": "execute_result"
    }
   ],
   "source": [
    "y_pred = model.predict(x.reshape(1,300,7))\n",
    "\n",
    "m_1 = tf.keras.metrics.RootMeanSquaredError()\n",
    "m_1.update_state(y_target[:,:,0], y_pred[:,:,0])\n",
    "\n",
    "m_2 = tf.keras.metrics.RootMeanSquaredError()\n",
    "m_2.update_state(y_target[:,:,1], y_pred[:,:,1])\n",
    "\n",
    "\n",
    "std_1 = df_std[\"Débit horaire\"]\n",
    "std_2 = df_std[\"Taux d'occupation\"]\n",
    "\n",
    "kpi_1 = m_1.result().numpy() * std_1\n",
    "kpi_2 = m_2.result().numpy() * std_2\n",
    "\n",
    "kpi_1, kpi_2\n",
    "\n"
   ]
  }
 ],
 "metadata": {
  "kernelspec": {
   "display_name": "Python 3.9.10 ('base')",
   "language": "python",
   "name": "python3"
  },
  "language_info": {
   "codemirror_mode": {
    "name": "ipython",
    "version": 3
   },
   "file_extension": ".py",
   "mimetype": "text/x-python",
   "name": "python",
   "nbconvert_exporter": "python",
   "pygments_lexer": "ipython3",
   "version": "3.9.10"
  },
  "orig_nbformat": 4,
  "vscode": {
   "interpreter": {
    "hash": "56faac8612633bcfddb99da3ad5a50bcd343e3e14a61b03833611d8357de7104"
   }
  }
 },
 "nbformat": 4,
 "nbformat_minor": 2
}
